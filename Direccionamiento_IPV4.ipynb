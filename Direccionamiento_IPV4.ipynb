{
  "nbformat": 4,
  "nbformat_minor": 0,
  "metadata": {
    "colab": {
      "name": "Direccionamiento IPV4.ipynb",
      "provenance": [],
      "collapsed_sections": [],
      "authorship_tag": "ABX9TyN+4VHXahbSYQ3TIBIVOKh+",
      "include_colab_link": true
    },
    "kernelspec": {
      "name": "python3",
      "display_name": "Python 3"
    },
    "language_info": {
      "name": "python"
    }
  },
  "cells": [
    {
      "cell_type": "markdown",
      "metadata": {
        "id": "view-in-github",
        "colab_type": "text"
      },
      "source": [
        "<a href=\"https://colab.research.google.com/github/Navarrojuan212/IPV4/blob/main/Direccionamiento_IPV4.ipynb\" target=\"_parent\"><img src=\"https://colab.research.google.com/assets/colab-badge.svg\" alt=\"Open In Colab\"/></a>"
      ]
    },
    {
      "cell_type": "code",
      "metadata": {
        "id": "24gGpHWmuMU1"
      },
      "source": [
        "''' Cómo insertar una imagen (?)'''\n",
        "# ![](https://drive.google.com/uc?export=view&id=your_id)"
      ],
      "execution_count": null,
      "outputs": []
    },
    {
      "cell_type": "markdown",
      "metadata": {
        "id": "QBilwHQZaCyw"
      },
      "source": [
        "#**DIRECCIONAMIENTO IPV4**\n",
        "![](https://drive.google.com/uc?export=view&id=1sc68cXCpXkAAEAT0Qzj7NJwV2veYMufN)"
      ]
    },
    {
      "cell_type": "markdown",
      "metadata": {
        "id": "ic8EfXS1L5rm"
      },
      "source": [
        "##**Rango de direcciones IP descritos por clase**\n",
        "\n",
        "Clase | Inicio de Direcciones | Fin de direcciones | # de Redes | # de Hosts | Aplica para\n",
        "----: | :--------: | ----------------- | :---------: | :----------: | :------------   \n",
        "**A** | `0.0.0.0`   | `127.255.255.255` | 128       | 16,777,214 | Redes grandes\n",
        "**B** | `128.0.0.0` | `191.255.255.255` | 16,384    | 65,534     | Redes Medianas\n",
        "**C** | `192.0.0.0` | `223.255.255.255` | 2,097,152 | 254        | Redes Pequeñas\n",
        "**D** | `224.0.0.0` | `239.255.255.255` | No aplica | No aplica  | Multicast\n",
        "**E** | `240.0.0.0` | `255.255.255.255` | No aplica | No aplica  | Investigación \n",
        "\n",
        "\n",
        "\n",
        "\n",
        "  - Existe un intervalo reservado para [Loopback](https://www.itesa.edu.mx/netacad/switching/course/module4/4.1.3.4/4.1.3.4.html#:~:text=La%20interfaz%20loopback%20es%20una,el%20router%20est%C3%A9%20en%20funcionamiento.) , el cual no puede ser utilizado para direccionamiento.\n",
        "\n",
        "***Loopback***             | Desde       | Hasta   |\n",
        ":--------------------------| :----------:| :-----: |\n",
        "*_Direcciones Reservadas_* | `127.0.0.0` | `127.255.255.255`|"
      ]
    },
    {
      "cell_type": "markdown",
      "metadata": {
        "id": "trXogowOQcs5"
      },
      "source": [
        "##**Rango de direcciones privadas**\n",
        "\n",
        "Clase | Número de bits para la red | Número de bits para host | Rango de direcciones IP| # de Hosts |\n",
        "----: | :--------: | :-----------------: | :---------: | ----------: |\n",
        "**A** | `8`   | `24` | `10.0.0.0 - 10.255.255.255` | `16,777,214`|\n",
        "**B** | `12` | `20` | `172.16.0.0 - 172.31.255.255` | `1,048,576` |\n",
        "**C** | `16` | `16` | `192.168.0.0 - 192.168.255.255` | `65,535`|"
      ]
    },
    {
      "cell_type": "markdown",
      "metadata": {
        "id": "Dh27CkS6IveL"
      },
      "source": [
        "##***Número de Red y hosts de una dirección IP  __CLASE A__***\n",
        "\n",
        "| Red| Hosts--->| |  |\n",
        "| :--------: | :-----------------: | :---------: | ----------: |\n",
        "| `255`   | `0` | `0` | `0`|\n",
        "| `11111111`   | `00000000` | `00000000` | `00000000`|"
      ]
    },
    {
      "cell_type": "markdown",
      "metadata": {
        "id": "pTVJ5fRhLewC"
      },
      "source": [
        "##***Número de Red y hosts de una dirección IP  __CLASE B__***\n",
        "\n",
        "| | <---Red| Hosts--->|  |\n",
        "| :--------: | :-----------------: | :---------: | ----------: |\n",
        "| `255`   | `255` | `0` | `0`|\n",
        "| `11111111`   | `11111111` | `00000000` | `00000000`|"
      ]
    },
    {
      "cell_type": "markdown",
      "metadata": {
        "id": "KMssnpj6L7SI"
      },
      "source": [
        "##***Número de Red y host de una dirección IP  __CLASE C__***\n",
        "\n",
        "| | | <-Red|  Hosts|\n",
        "| :--------: | :-----------------: | :---------: | ----------: |\n",
        "| `255`   | `255` | `255` | `0`|\n",
        "| `11111111`   | `11111111` | `11111111` | `00000000`|"
      ]
    },
    {
      "cell_type": "markdown",
      "metadata": {
        "id": "mOlmI4YDXkc5"
      },
      "source": [
        "##**Direccion de red, direccion de hosts, direccion de broadcast y mascara de red**\n",
        "\n",
        "***Ejemplo:***\n",
        "\n",
        "  - ***Direccion de red***\n",
        "\n",
        "| |<--Red| Hosts--->|  |\n",
        "| :--------: | :-----------------: | :---------: | ----------: |\n",
        "| `172`   | `16` | `0` | `0`|\n",
        "| `11111111` | `00010000` | `00000000` | `00000000`|\n",
        "\n",
        "  - ***Direccion de hosts***\n",
        "\n",
        "| |<--Red| Host--->|  |\n",
        "| :--------: | :-----------------: | :---------: | ----------: |\n",
        "| `172`   | `16` | `0` | `1`|\n",
        "| `11111111` | `00010000` | `00000000` | `00000001`|\n",
        "\n",
        "  - ***Direccion de broadcast***\n",
        "\n",
        "| |<--Red| Hosts--->|  |\n",
        "| :--------: | :-----------------: | :---------: | ----------: |\n",
        "| `172`   | `16` | `255` | `255`|\n",
        "| `11111111` | `00010000` | `11111111` | `11111111`|\n",
        "\n",
        "  - ***Máscara de red***\n",
        "\n",
        "| |<--Red| Hosts--->|  |\n",
        "| :--------: | :-----------------: | :---------: | ----------: |\n",
        "| `255`   | `255` | `0` | `0`|\n",
        "| `11111111` | `11111111` | `00000000` | `00000000`|"
      ]
    },
    {
      "cell_type": "markdown",
      "metadata": {
        "id": "DA_X3bXuL_zZ"
      },
      "source": [
        "##**Compuerta lógica AND**\n",
        ">![And](https://drive.google.com/uc?export=view&id=1J55Ue7ukqQI5ypUmUajSUGvVwXLPgAuZ)"
      ]
    },
    {
      "cell_type": "markdown",
      "metadata": {
        "id": "x0eLzRo2HB1C"
      },
      "source": [
        "Si realizamos la operacion lógica AND entre una direccion IP dada y su máscara; obtendremos la direccion de red asociada a ella. Veamos\n",
        "\n",
        "Si tenemos la siguiente direccion de red con su respectiva máscara de red ***10.34.23.134/8***\n",
        "\n",
        "`0 0 0 0 1 0 1 0`| `.` |`0 0 1 0 0 0 1 0`  |`.` | `0 0 0 1 0 1 1 1`  |`.` |`1 0 0 0 0 1 1 0`|\n",
        ":---------------:|::|:-----------------:|::| :------------------: |::| :--------------:|\n",
        "`1 1 1 1 1 1 1 1 `|.|`0 0 0 0 0 0 0 0 `|.| `0 0 0 0 0 0 0 0`|.|`0 0 0 0 0 0 0 0`              |"
      ]
    },
    {
      "cell_type": "markdown",
      "metadata": {
        "id": "rQnJsVFCJM-B"
      },
      "source": [
        "Luego de aplicar la operacíon AND ontenemos el siguiente resultado.\n",
        "\n",
        "`0 0 0 0 1 0 1 0`| `.` |`0 0 0 0 0 0 0 0`  |`.` | `0 0 0 0 0 0 0 0`  |`.` |`0 0 0 0 0 0 0 0`|\n",
        ":---------------:|::|:-----------------:|::| :------------------: |::| :--------------:|\n",
        "`10`| `.` |`0`  |`.` | `0 `  |`.` |`0`|\n"
      ]
    },
    {
      "cell_type": "markdown",
      "metadata": {
        "id": "s7P_rvaX_VSd"
      },
      "source": [
        "##**Subeneto de redes IPV4**"
      ]
    },
    {
      "cell_type": "markdown",
      "metadata": {
        "id": "bDnOy_AUvGDg"
      },
      "source": [
        "###**Formula para calcular subredes**\n",
        "\n",
        "$2^N>=C$\n",
        "\n",
        "Donde ***C*** corresonde al número de subredes que deseamos para nuestro diseño de red.\n",
        "\n",
        "- ***Ejemplo calculo de 5 subredes***\n",
        "\n",
        "$2^7$ | $2^6$ | $2^5$ | $2^4$ | $2^3$ | $2^2$ | $2^1$ | $2^0$ |\n",
        ":------:|:-------:|:-------:|:-------:|:-------:|:-------:|:-------:|:-------:|\n",
        "128   |64     | 32    | 16    | 8     | 4     | 2     | 1     |\n",
        "\n",
        "```python\n",
        "N = 3\n",
        "```\n",
        "\n",
        "$2^N>=C$ ; 5 subredes ; $2^3=8$"
      ]
    },
    {
      "cell_type": "markdown",
      "metadata": {
        "id": "Tu14B88Zw5BH"
      },
      "source": [
        "###**Formula para calcular la mascara de red**\n",
        "En base al ejemplo anterior, y luego de calcular el número de subredes. Ahora debemos aplicar el valor obtenido de ***N*** a nuestra mascara para hallar la nueva mascara corresponiente a las subredes.\n",
        "\n",
        "\n",
        "\n",
        "Por ejemplo, vamos a tomar una mascara **/16** (***CLASE B***); pudo haber sido otra clase, pero para este ejemplo se decidió ésta.\n",
        "\n",
        "`1 1 1 1 1 1 1 1`| `1 1 1 1 1 1 1 1`  | `0 0 0 0 0 0 0 0 0`  |`0 0 0 0 0 0 0 0`|\n",
        ":---------------:| :-----------------:| :------------------: | :--------------:|\n",
        "`255 `           |`255`               | `0`                  |`0`              |\n"
      ]
    },
    {
      "cell_type": "markdown",
      "metadata": {
        "id": "P9Ur3TyQ3aiV"
      },
      "source": [
        "Ahora lo que debemos hacer es sumar a **/16** el número **N** del ejercicio anterior. El resultado de esta sumatoria, es el número de bits que debemos encender para nuestro caso en específico, veamos:\n",
        "\n",
        "\n",
        "\n",
        "```python\n",
        "16 + (N=3) = 19\n",
        "```\n",
        "\n",
        "`1 1 1 1 1 1 1 1`| `.` |`1 1 1 1 1 1 1 1`  |`.` | `1 1 1 0 0 0 0 0 0`  |`.` |`0 0 0 0 0 0 0 0`|\n",
        ":---------------:|::|:-----------------:|::| :------------------: |::| :--------------:|\n",
        "`255 `           |.|`255`               |.| `224`                  |.|`0`              |\n",
        "\n",
        "\n",
        "Ahora nuestra nueva mascara será de **/19**"
      ]
    },
    {
      "cell_type": "markdown",
      "metadata": {
        "id": "wloLPBLT3oUe"
      },
      "source": [
        "###**Formula para calcular el número de Hosts**\n",
        "$2^M-2 = H$\n",
        "\n",
        "Donde **M** es el número de bits que quedan apagados despues del calculo de la mascara.\n",
        "\n",
        "  - Para nuestro caso anterior ***M = 13***\n",
        "\n",
        "En cada subred siempre debemos reservar una dirección para la **Red** y una dirección para el **Broadcast**; por esto el ***-2*** en la formula.\n",
        "\n",
        "  - $2^{13} - 2 = 8,192 - 2$\n",
        " \n",
        "Luego el número de equipos en cada subred es igual a:\n",
        "\n",
        "  - H = 8,190 "
      ]
    },
    {
      "cell_type": "markdown",
      "metadata": {
        "id": "gO-mG9NH3tAS"
      },
      "source": [
        "###**Formula para calcular el salto de red**\n",
        "\n",
        "    256 - el ultimo número no nulo resultante del octeto de la mascara de red.\n",
        "\n",
        "Continuando con el ejemplo, tenemos la siguiente información.\n",
        "\n",
        "`1 1 1 1 1 1 1 1`| `1 1 1 1 1 1 1 1`  | `1 1 1 0 0 0 0 0 0`  |`0 0 0 0 0 0 0 0`|\n",
        ":---------------:| :-----------------:| :------------------: | :--------------:|\n",
        "`255 `           |`255`               | `224`                  |`0`  \n",
        "\n",
        "Luego nuestro salto de red será cada:\n",
        "\n",
        "    256 - 224 = 32"
      ]
    },
    {
      "cell_type": "markdown",
      "metadata": {
        "id": "6VDsPvKK_mpP"
      },
      "source": [
        "##**Subneteo Clase A**\n",
        "\n",
        "  - *Identificar la mascara de red.*\n",
        "\n",
        "  - *Calcular el número de subredes.*\n",
        "\n",
        "  - *Obtener nueva máscara de red.*\n",
        "  \n",
        "  - *Obtener cantidad de hosts.*\n",
        "  - *Obtener salto de red.*"
      ]
    },
    {
      "cell_type": "markdown",
      "metadata": {
        "id": "JB8rHEIMAvk4"
      },
      "source": [
        "###***Ejemplo***\n",
        "\n",
        "Calcular ***7 subredes*** para la direccion ***10.0.0.0/8***\n",
        "\n",
        "\n",
        "\n",
        "\n",
        "\n",
        "\n"
      ]
    },
    {
      "cell_type": "markdown",
      "metadata": {
        "id": "0DqgAISZBy0U"
      },
      "source": [
        "####**Paso 1**\n",
        "***Identificamos la mascara de red***\n",
        "\n",
        "`1 1 1 1 1 1 1 1` | `0 0 0 0 0 0 0 0`  | `0 0 0 0 0 0 0 0` | `0 0 0 0 0 0 0 0`|\n",
        ":---------------:| :-----------------:| :------------------: | :--------------:|\n",
        "`255 `           |`0`               | `0`                  |`0`  "
      ]
    },
    {
      "cell_type": "markdown",
      "metadata": {
        "id": "FiLGEv8tBziN"
      },
      "source": [
        "####**Paso 2**\n",
        "***Calculamos el número de subredes solicitadas***\n",
        "\n",
        "***Formula:*** $2^N>=C$\n",
        "\n",
        "***Redes solicitadas:*** 7 subredes\n",
        "\n",
        "  - Usaremos nuevamente la tabla como ayuda:\n",
        "\n",
        "$2^7$ | $2^6$ | $2^5$ | $2^4$ | $2^3$ | $2^2$ | $2^1$ | $2^0$ |\n",
        ":------:|:-------:|:-------:|:-------:|:-------:|:-------:|:-------:|:-------:|\n",
        "128   |64     | 32    | 16    | 8     | 4     | 2     | 1     |\n",
        "\n",
        "```python\n",
        "#Así obtenemos que N = 3\n",
        "```\n",
        "\n",
        "Luego el número de subredes resultantes serán: \n",
        "\n",
        "$2^3=8$"
      ]
    },
    {
      "cell_type": "markdown",
      "metadata": {
        "id": "HQwUXjO5DVT_"
      },
      "source": [
        "####**Paso 3**\n",
        "***Obtenemos la nueva máscara de red***\n",
        "\n",
        "  - Teniamos inicialmente una máscara de **/8** a esta le debemos sumar el valor de **N**, en este caso ***N=3*** y así obtendremos la nueva máscara.\n",
        "\n",
        "**/8** + 3 = /11\n",
        "\n",
        "\n",
        "`1 1 1 1 1 1 1 1` | `1 1 1 0 0 0 0 0`  | `0 0 0 0 0 0 0 0` | `0 0 0 0 0 0 0 0`|\n",
        ":---------------:| :-----------------:| :------------------: | :--------------:|\n",
        "`255 `           |`224`               | `0`                  |`0` \n"
      ]
    },
    {
      "cell_type": "markdown",
      "metadata": {
        "id": "UvL6rBv3FAnM"
      },
      "source": [
        "Si observamos con detalle, nos daremos cuenta que ya podemos identificar el valor de **M** en nuestra nueva máscara, con la cual procederemos a calcular la cantidad de hosts por subred.\n",
        "\n",
        "En este caso ***M = 21***"
      ]
    },
    {
      "cell_type": "markdown",
      "metadata": {
        "id": "3VOV61bZKcPd"
      },
      "source": [
        "####**Paso 4**\n",
        "***Calcular el número de hosts por subred***\n",
        "  - Recordemos la formula $2^M-2=H$; Donde ***H*** es el número de hosts.\n",
        "\n",
        "  $2^{21}-2 =H$\n",
        "\n",
        "  Luego nuestro numero de hosts por subred será 2,097,150.\n"
      ]
    },
    {
      "cell_type": "markdown",
      "metadata": {
        "id": "kd6sOexuM_zm"
      },
      "source": [
        "####**Paso 5**\n",
        "***Calcular el salto de red***\n",
        "\n",
        "256 - 224 = 32\n",
        "\n",
        "  - *(Donde **224** corresponde al numero resultante del octeto modificado en la máscara original de la red)*\n",
        "\n",
        "\n",
        "Luego nuetras subredes tendrán saltos de 32. Veamos.\n",
        "\n",
        "**Recordemos la red inicial 10.0.0.0/8+3**\n",
        "\n",
        "Subred | Subred | Primera IP Uitlizable | Ultima IP Uitlizable| Direccion de Broadcast|\n",
        ":------:|:-------:|:-------:|:-------:|:-------:|\n",
        "`#1`|`10.0.0.0`|`10.0.0.1`|`10.31.255.254`|`10.31.255.255`|\n",
        "`#2`|`10.32.0.0`|`10.32.0.1`|`10.32.255.254`|`10.32.255.255`|\n",
        "`#3`|`10.64.0.0`|`10.64.0.1`|`10.64.255.254`|`10.64.255.255`|\n",
        "`#4`|`10.96.0.0`|`10.96.0.1`|`10.96.255.254`|`10.96.255.255`|\n",
        "`#5`|`10.128.0.0`|`10.128.0.1`|`10.128.255.254`|`10.128.255.255`|\n",
        "`#6`|`10.160.0.0`|`10.160.0.1`|`10.160.255.254`|`10.160.255.255`|\n",
        "`#7`|`10.192.0.0`|`10.192.0.1`|`10.192.255.254`|`10.192.255.255`|\n",
        "`#8`|`10.224.0.0`|`10.224.0.1`|`10.224.255.254`|`10.224.255.255`|\n",
        "\n",
        "\n",
        "\n",
        "\n",
        "\n",
        "\n"
      ]
    },
    {
      "cell_type": "code",
      "metadata": {
        "id": "IsBkKdlaWzDz"
      },
      "source": [
        "# Observemos las direcciones de hosts de la primera red para entrar en contexto con ella\n",
        "import ipaddress"
      ],
      "execution_count": null,
      "outputs": []
    },
    {
      "cell_type": "code",
      "metadata": {
        "id": "r1YI3IJYez2N"
      },
      "source": [
        "redA = ipaddress.ip_network('10.0.0.0/11') \n",
        "for x in redA.hosts():\n",
        "  print(x)"
      ],
      "execution_count": null,
      "outputs": []
    },
    {
      "cell_type": "markdown",
      "metadata": {
        "id": "8psx_iCBN6Us"
      },
      "source": [
        "##**Subneteo Clase B**\n",
        "\n",
        "  - *Identificar la mascara de red.*\n",
        "\n",
        "  - *Calcular el número de subredes.*\n",
        "\n",
        "  - *Obtener nueva máscara de red.*\n",
        "  \n",
        "  - *Obtener cantidad de hosts.*\n",
        "  - *Obtener salto de red.*"
      ]
    },
    {
      "cell_type": "markdown",
      "metadata": {
        "id": "FNzG9hQ8OAUE"
      },
      "source": [
        "###***Ejemplo***\n",
        "\n",
        "Calcular ***50 subredes*** para la direccion ***132.18.0.0/16***"
      ]
    },
    {
      "cell_type": "markdown",
      "metadata": {
        "id": "rm0ebyihOTCJ"
      },
      "source": [
        "####**Paso 1**\n",
        "***Identificamos la mascara de red***\n",
        "\n",
        "`1 1 1 1 1 1 1 1` | `1 1 1 1 1 1 1 1`  | `0 0 0 0 0 0 0 0` | `0 0 0 0 0 0 0 0`|\n",
        ":---------------:| :-----------------:| :------------------: | :--------------:|\n",
        "`255 `           |`255`               | `0`                  |`0`  "
      ]
    },
    {
      "cell_type": "markdown",
      "metadata": {
        "id": "cyAky7bFOQT1"
      },
      "source": [
        "####**Paso 2**\n",
        "***Calculamos el número de subredes solicitadas***\n",
        "\n",
        "***Formula:*** $2^N>=C$\n",
        "\n",
        "  - ***Redes solicitadas:*** 50 subredes\n",
        "\n",
        "   Usaremos nuevamente la tabla como ayuda:\n",
        "\n",
        "$2^7$ | $2^6$ | $2^5$ | $2^4$ | $2^3$ | $2^2$ | $2^1$ | $2^0$ |\n",
        ":------:|:-------:|:-------:|:-------:|:-------:|:-------:|:-------:|:-------:|\n",
        "128   |64     | 32    | 16    | 8     | 4     | 2     | 1     |\n",
        "\n",
        "```python\n",
        "#Así obtenemos que N = 6\n",
        "```\n",
        "\n",
        "Luego el número de subredes resultantes serán: \n",
        "\n",
        "$2^6=64$"
      ]
    },
    {
      "cell_type": "markdown",
      "metadata": {
        "id": "9VHizXUoOzbx"
      },
      "source": [
        "####**Paso 3**\n",
        "***Obtenemos la nueva máscara de red***\n",
        "\n",
        "  - Teníamos inicialmente una máscara de **/16** a esta le debemos sumar el valor de **N**, en este caso ***N=6*** y así obtendremos la nueva máscara.\n",
        "\n",
        "  ***/16** + 6 = /22\n",
        "\n",
        "\n",
        "`1 1 1 1 1 1 1 1` | `1 1 1 1 1 1 1 1`  | `1 1 1 1 1 1 0 0` | `0 0 0 0 0 0 0 0`|\n",
        ":---------------:| :-----------------:| :------------------: | :--------------:|\n",
        "`255 `           |`255`               | `252`                  |`0` "
      ]
    },
    {
      "cell_type": "markdown",
      "metadata": {
        "id": "GjCHyyJlOt2b"
      },
      "source": [
        "####**Paso 4**\n",
        "***Calcular el número de hosts por subred***\n",
        "  - Recordemos la formula $2^M-2=H$; Donde ***H*** es el número de hosts.\n",
        "\n",
        "  $2^{10} -2=H$\n",
        "\n",
        "  Luego nuestro numero de hosts por subred será 1,022."
      ]
    },
    {
      "cell_type": "markdown",
      "metadata": {
        "id": "cw0_ETY5Pu66"
      },
      "source": [
        "####**Paso 5**\n",
        "***Calcular el salto de red***\n",
        "\n",
        "256 - 252 = 4\n",
        "\n",
        "  - *(Donde **252** corresponde al numero resultante del octeto modificado en la máscara original de la red)*\n",
        "\n",
        "\n",
        "  Luego nuetras subredes tendrán saltos de 4. Veamos.\n",
        "\n",
        "  **Recordemos la red inicial**\n",
        "\n",
        "  **132.18.0.0/16+6**\n",
        "\n",
        "Subred | Subred | Primera IP Uitlizable | Ultima IP Uitlizable| Direccion de Broadcast|\n",
        ":------:|:-------:|:-------:|:-------:|:-------:|\n",
        "`#1`|`132.18.0.0` |`132.18.0.1`|`132.18.3.254`|`132.18.3.255`|\n",
        "`#2`|`132.18.4.0` |`132.18.4.1`|`132.18.7.254`|`132.18.7.255`|\n",
        "`#3`|`132.18.8.0` |`132.18.8.1`|`132.18.11.254`|`132.18.11.255`|\n",
        "`#4`|`132.18.12.0`|`132.18.12.1`|`132.18.15.254`|`132.18.15.255`|\n",
        "`#5`|`132.18.16.0`|`132.18.`|`132.18.`|`132.18.`|\n",
        "`#6`|`132.18.20.0`|`132.18.`|`132.18.`|`132.18.`|\n",
        "`#7`|`132.18.24.0`|`132.18.`|`132.18.`|`132.18.`|\n",
        "`#8`|`132.18.28.0`|`132.18.`|`132.18.`|`132.18.`|\n"
      ]
    },
    {
      "cell_type": "code",
      "metadata": {
        "id": "XRgUp4YVWx9B"
      },
      "source": [
        "redB = ipaddress.ip_network('132.18.0.0/22') \n",
        "for x in redB.hosts():\n",
        "  print(x)"
      ],
      "execution_count": null,
      "outputs": []
    },
    {
      "cell_type": "markdown",
      "metadata": {
        "id": "kpfCfI_7ZieB"
      },
      "source": [
        "##**Subneteo Clase C**\n",
        "\n",
        "  - *Identificar la mascara de red.*\n",
        "\n",
        "  - *Calcular el número de subredes.*\n",
        "\n",
        "  - *Obtener nueva máscara de red.*\n",
        "  \n",
        "  - *Obtener cantidad de hosts.*\n",
        "  - *Obtener salto de red.*"
      ]
    },
    {
      "cell_type": "markdown",
      "metadata": {
        "id": "q-Vwqh7aZ5Nc"
      },
      "source": [
        "###***Ejemplo***\n",
        "\n",
        "Calcular ***4 subredes*** para la direccion ***192.168.1.0/24***"
      ]
    },
    {
      "cell_type": "markdown",
      "metadata": {
        "id": "PiT2VX5RaICf"
      },
      "source": [
        "####**Paso 1**\n",
        "***Identificamos la mascara de red***\n",
        "\n",
        "`1 1 1 1 1 1 1 1` | `1 1 1 1 1 1 1 1`  | `1 1 1 1 1 1 1 1` | `0 0 0 0 0 0 0 0`|\n",
        ":---------------:| :-----------------:| :------------------: | :--------------:|\n",
        "`255 `           |`255`               | `255`                  |`0`  "
      ]
    },
    {
      "cell_type": "markdown",
      "metadata": {
        "id": "ZfISt3kpaPMU"
      },
      "source": [
        "####**Paso 2**\n",
        "***Calculamos el número de subredes solicitadas***\n",
        "\n",
        "***Formula:*** $2^N>=C$\n",
        "\n",
        "  - ***Redes solicitadas:*** 4 subredes\n",
        "\n",
        "   Usaremos nuevamente la tabla como ayuda:\n",
        "\n",
        "$2^7$ | $2^6$ | $2^5$ | $2^4$ | $2^3$ | $2^2$ | $2^1$ | $2^0$ |\n",
        ":------:|:-------:|:-------:|:-------:|:-------:|:-------:|:-------:|:-------:|\n",
        "128   |64     | 32    | 16    | 8     | 4     | 2     | 1     |\n",
        "\n",
        "```python\n",
        "#Así obtenemos que N = 2\n",
        "```\n",
        "\n",
        "Luego el número de subredes resultantes serán: \n",
        "\n",
        "$2^2=4$"
      ]
    },
    {
      "cell_type": "markdown",
      "metadata": {
        "id": "6uLf_3gnbJGX"
      },
      "source": [
        "####**Paso 3**\n",
        "***Obtenemos la nueva máscara de red***\n",
        "\n",
        "  - Teníamos inicialmente una máscara de **/24** a esta le debemos sumar el valor de **N**, en este caso ***N=2*** y así obtendremos la nueva máscara.\n",
        "\n",
        "   ***/24*** + 2 = /26\n",
        "\n",
        "\n",
        "`1 1 1 1 1 1 1 1` | `1 1 1 1 1 1 1 1`  | `1 1 1 1 1 1 1 1` | `1 1 0 0 0 0 0 0`|\n",
        ":---------------:| :-----------------:| :------------------: | :--------------:|\n",
        "`255 `           |`255`               | `255`                  |`192` "
      ]
    },
    {
      "cell_type": "markdown",
      "metadata": {
        "id": "vp-3CRdYbZms"
      },
      "source": [
        "####**Paso 4**\n",
        "***Calcular el número de hosts por subred***\n",
        "  - Recordemos la formula $2^M-2=H$; Donde ***H*** es el número de hosts.\n",
        "\n",
        "  $2^{6} -2=H$\n",
        "\n",
        "  Luego nuestro numero de hosts por subred será 62."
      ]
    },
    {
      "cell_type": "markdown",
      "metadata": {
        "id": "TnSSVOD9cXoD"
      },
      "source": [
        "####**Paso 5**\n",
        "***Calcular el salto de red***\n",
        "\n",
        "256 - 192 = 64\n",
        "\n",
        "  - *(Donde **192** corresponde al numero resultante del octeto modificado en la máscara original de la red)*\n",
        "\n",
        "\n",
        "  Luego nuestras subredes tendrán saltos de 4, veamos:\n",
        "\n",
        "  **Recordemos la red inicial**\n",
        "\n",
        "  **192.168.1.0/24+2**\n",
        "\n",
        "Subred | Subred | Primera IP Uitlizable | Ultima IP Uitlizable| Direccion de Broadcast|\n",
        ":------:|:-------:|:-------:|:-------:|:-------:|\n",
        "`#1`|`192.168.1.0` |`192.168.1.1`|`192.168.1.62`|`192.168.1.63`|\n",
        "`#2`|`192.168.1.64` |`192.168.1.65`|`192.168.1.`|`192.168.1.`|\n",
        "`#3`|`192.168.1.128` |`192.168.1.`|`192.168.1.`|`192.168.1.`|\n",
        "`#4`|`192.168.1.192`|`192.168.1.`|`192.168.1.`|`192.168.1.`|\n",
        "\n"
      ]
    },
    {
      "cell_type": "code",
      "metadata": {
        "id": "5S_iOO26eobh"
      },
      "source": [
        "redC = ipaddress.ip_network('192.168.1.0/26') \n",
        "for x in redC.hosts():\n",
        "  print(x)"
      ],
      "execution_count": null,
      "outputs": []
    },
    {
      "cell_type": "markdown",
      "metadata": {
        "id": "D9aAXK0T9uir"
      },
      "source": [
        "##**Ejercicio de Propiedades de una red**\n",
        "\n",
        "***Ejemplo:*** Dada la siguiente dirección IP ***132.8.3.100/16***, describa sus propiedades (Dirección de red, Direccion de Broadcast, rango de IPs)\n",
        "\n",
        "  - Primero convertimos nuestra direccion y nuestra mascara a binario y luego aplicamos la operacion lógica ***AND*** entre estas dos, obtendremos como resultado la direccion de red, veamos:\n",
        "\n",
        "  Recordemos que con la mascara podemos diferenciar, cual es la parte de red y cual es la parte de host\n",
        "\n",
        "| |<----Red   | Hosts--->|  |\n",
        ":---------------:| :-----------------:|:------------------: | :--------------:|\n",
        "\n",
        "`1 0 0 0 0 1 0 0` | `0 0 0 0 1 0 0 0`  | `0 0 0 0 0 0 1 1` | `0 1 1 0 0 1 0 0`|\n",
        ":---------------:| :-----------------:|:------------------: | :--------------:|\n",
        "`1 1 1 1 1 1 1 1` |`1 1 1 1 1 1 1 1`|`0 0 0 0 0 0 0 0`|`0 0 0 0 0 0 0 0`|\n",
        "\n",
        "***\n",
        "`1 0 0 0 0 1 0 0` | `0 0 0 0 1 0 0 0`  | `0 0 0 0 0 0 0 0` | `0 0 0 0 0 0 0 0`|\n",
        ":---------------:| :-----------------:| :------------------: | :--------------:|\n",
        "`132` |`8`|`0 `|`0 `\n",
        "\n",
        "Y así es como podemos obtener nuestra dirección de red.\n"
      ]
    },
    {
      "cell_type": "markdown",
      "metadata": {
        "id": "pmjlrs6nC2Q3"
      },
      "source": [
        "Recordemos que la dirección de **Broadcast** la obtenemos encendiendo la parte de hosts de la ***dirección de red***\n",
        "\n",
        "\n",
        "| |<----Red   | Hosts--->|  |\n",
        ":---------------:| :-----------------:|:------------------: | :--------------:|\n",
        "\n",
        "`1 0 0 0 0 1 0 0` | `0 0 0 0 1 0 0 0`  | `0 0 0 0 0 0 0 0` | `0 0 0 0 0 0 0 0`|\n",
        ":---------------:| :-----------------:|:------------------: | :--------------:|\n",
        "`1 0 0 0 0 1 0 0` |`0 0 0 0 1 0 0 0`|`1 1 1 1 1 1 1 1`|`1 1 1 1 1 1 1 1`|\n",
        "`132` |`8`|`255 `|`255 `\n",
        "\n",
        "Y de esta manera es como hallamos nuestra direccíon de Broadcast. \n",
        "\n",
        "Red | Primera IP utilizable  | Última IP utilizable | Broadcast|\n",
        ":---------------:| :-----------------:|:------------------: | :--------------:|\n",
        "`132.18.0.0` |`132.18.0.1`|`132.18.255.254`|`132.18.255.255`|\n"
      ]
    },
    {
      "cell_type": "markdown",
      "metadata": {
        "id": "T2wOSXiXBygt"
      },
      "source": [
        "Ahora realicemos el mismo ejercicio pero con una dirección sin clase. \n",
        "\n",
        "***Ejemplo:*** Dada la siguiente dirección IP ***10.100.40.30/11***, obtenga la dirección de red, la direccion de broadcast y el rango de IPs utilizables.\n",
        "\n",
        "  - Primero convertimos nuestra dirección y nuestra máscara a binario y luego aplicamos la operación lógica ***AND*** entre estas dos, obtendremos como resultado la dirección de red, veamos:\n",
        "\n",
        "  Recordemos que con la máscara podemos diferenciar cual es la parte de red y cual es la parte de hosts.\n",
        "\n",
        "\n",
        "| Red| Hosts-------------------------------------->| |  |\n",
        ":---------------:| :-----------------:|:------------------: | :--------------:|\n",
        "\n",
        "`0 0 0 0 1 0 1 0` | `0 1 1 0 0 1 0 0`  | `0 0 1 0 1 0 0 0` | `0 0 0 1 1 1 1 0`|\n",
        ":---------------:| :-----------------:|:------------------: | :--------------:|\n",
        "`1 1 1 1 1 1 1 1` |`1 1 1 0 0 0 0 0`|`0 0 0 0 0 0 0 0`|`0 0 0 0 0 0 0 0`|\n",
        "\n",
        "***\n",
        "`0 0 0 0 1 0 1 0` | `0 1 1 0 0 0 0 0`  | `0 0 0 0 0 0 0 0` | `0 0 0 0 0 0 0 0`|\n",
        ":---------------:| :-----------------:| :------------------: | :--------------:|\n",
        "`10` |`96`|`0 `|`0 `\n",
        "\n",
        "\n",
        "Y así es como podemos obtener nuestra dirección de red."
      ]
    },
    {
      "cell_type": "markdown",
      "metadata": {
        "id": "LwaApCbgSGjf"
      },
      "source": [
        "Con esta dirección de red, hallamos la dirección de Broadcast. Lo que debemos hacer es encender todos los bits de hosts, veamos. \n",
        "\n",
        "| Red|   | Hosts--------------------------------------->|  |\n",
        ":---------------| :-----------------:|:------------------: | :--------------:|\n",
        "\n",
        "`0 0 0 0 1 0 1 0` | `0 1 1 0 0 0 0 0`  | `0 0 0 0 0 0 0 0` | `0 0 0 0 0 0 0 0`|\n",
        ":---------------:| :-----------------:|:------------------: | :--------------:|\n",
        "`0 0 0 0 1 0 1 0` |`0 1 1 1 1 1 1 1`|`1 1 1 1 1 1 1 1`|`1 1 1 1 1 1 1 1`|\n",
        "`10` |`127`|`255 `|`255 `\n",
        "\n",
        "***\n",
        "\n",
        "Red | Primera IP utilizable  | Última IP utilizable | Broadcast|\n",
        ":---------------:| :-----------------:|:------------------: | :--------------:|\n",
        "`10.96.0.0` |`10.96.0.1`|`10.127.255.254`|`10.127.255.255`|\n",
        "\n",
        "\n"
      ]
    },
    {
      "cell_type": "markdown",
      "metadata": {
        "id": "tjOXkg96ViPy"
      },
      "source": [
        "##**Subeneto [VLSM](https://www.practicalnetworking.net/stand-alone/classful-cidr-flsm-vlsm/)**\n",
        "\n",
        "Anteriormente vimos como subdividir una red en varias redes; si nos fijamos bien, todas esas subredes que hemos calculado hasta el momento poseen las misma longitud; es decir, la misma máscara. A esto se le conoce como ***Fixed Length Subnet Mask-FLSM*** \n",
        "\n",
        "Con ***Variable Length Subnet Mask-VLSM*** lo que sucede es que podemos dividir una red en sub redes, con diferentes tipos de máscara, direfentes capacidades para hosts si así lo requerimos.\n",
        "\n",
        "Esta técnica fue creada para evitar el agotamiento de redes ya que con el subneteo _FLSM_ se desperdician demasiadas redes."
      ]
    },
    {
      "cell_type": "markdown",
      "metadata": {
        "id": "cEAA6rEbYiIL"
      },
      "source": [
        "###***Ejemplo***\n",
        "\n",
        "Dada la siguiente direccion IP ***192.168.1.0/24*** calcule ***4 subredes*** para que soporten los siguientes hosts respectivamente:\n",
        "  - 60 host\n",
        "  - 120 host\n",
        "  - 10 host\n",
        "  - 24 host\n",
        "\n",
        "  En ***VLSM*** se realizan los cálculos en base a los hosts solicitados por subred."
      ]
    },
    {
      "cell_type": "markdown",
      "metadata": {
        "id": "gnahEMtOZwJD"
      },
      "source": [
        "####***Paso Primordial***\n",
        "\n",
        "  - ***Ordenamos de mayor a menor el número de hosts solicitados y en base a este orden se crearán las subredes solicitadas.***\n",
        "\n",
        "    - 120 Hosts\n",
        "    - 60 Hosts\n",
        "    - 24 Hosts\n",
        "    - 10 Hosts\n",
        "\n",
        "  Luego este será nuestro nuevo orden."
      ]
    },
    {
      "cell_type": "markdown",
      "metadata": {
        "id": "J_7CYLF6aS-d"
      },
      "source": [
        "####***Paso 1***\n",
        "  - ***Identidicar la máscara de red.***\n",
        "\n",
        "  Recordemos que nuestra máscara es ***/24***\n",
        "\n",
        "  ***\n",
        "\n",
        "`1 1 1 1 1 1 1 1`| `1 1 1 1 1 1 1 1`  | `1 1 1 1 1 1 1 1` | `0 0 0 0 0 0 0 0`|\n",
        ":---------------:| :-----------------:|:----------------: | :---------------:|\n",
        "`255`            |`255`               |`255`              |`0`               |"
      ]
    },
    {
      "cell_type": "markdown",
      "metadata": {
        "id": "8MafttJLb9La"
      },
      "source": [
        "####***Paso 2***\n",
        "  - ***Aplicar la fórmula***\n",
        "\n",
        "  $2^M-2=H$; \n",
        "  \n",
        "  Donde ***H*** es el número de hosts solicitados.\n",
        "\n",
        "Haremos uso de esta tabla para que sea un poco mas sencilo de comprender.\n",
        "***\n",
        "\n",
        "$2^7$ | $2^6$ | $2^5$ | $2^4$ | $2^3$ | $2^2$ | $2^1$ | $2^0$ |\n",
        ":------:|:-------:|:-------:|:-------:|:-------:|:-------:|:-------:|:-------:|\n",
        "128   |64     | 32    | 16    | 8     | 4     | 2     | 1     |\n",
        "\n",
        "***\n",
        "\n",
        "Lo que hacemos es ubicarnos en la tabla y encontrar _Qué potecia de '2' nos da como resultado un número mayor o igual a la cantidad de hosts solicitados_\n",
        "```python\n",
        "M = 7\n",
        "```\n",
        "\n",
        "$2^M-2>=H$ ; \n",
        "\n",
        "Para este caso obtendremos:\n",
        "$2^7=126$ Hosts "
      ]
    },
    {
      "cell_type": "markdown",
      "metadata": {
        "id": "B_9di-RWeK5j"
      },
      "source": [
        "####***Paso 3***\n",
        "  - ***Obtener la nueva máscara***\n",
        "\n",
        "  En esta caso como **M** nos indica el número de hosts que debemos dejar apagados (De derecha a izquierda) y encendemos el resto y el resultado será nuestra nueva máscara, veamos:\n",
        "\n",
        "  ***\n",
        "  - **Máscara original /24**\n",
        "\n",
        "`1 1 1 1 1 1 1 1`| `1 1 1 1 1 1 1 1`  | `1 1 1 1 1 1 1 1` | `0 0 0 0 0 0 0 0`|\n",
        ":---------------:| :-----------------:|:----------------: | :---------------:|\n",
        "`255`            |`255`               |`255`              |`0`               |\n",
        "\n",
        "***\n",
        "  - **Nueva máscara /25**\n",
        "\n",
        "`1 1 1 1 1 1 1 1`| `1 1 1 1 1 1 1 1`  | `1 1 1 1 1 1 1 1` | `1 0 0 0 0 0 0 0`|\n",
        ":---------------:| :-----------------:|:----------------: | :---------------:|\n",
        "`255`            |`255`               |`255`              |`128`               |"
      ]
    },
    {
      "cell_type": "markdown",
      "metadata": {
        "id": "fznW_CGPgf_E"
      },
      "source": [
        "####**Paso 4**\n",
        "  - ***Cálculo de salto de red***\n",
        "  \n",
        "  Para esto, tomamos el número generado en el último octeto de la máscara y lo restamos a **256**.\n",
        "\n",
        "```python\n",
        "256 - 128 = 128\n",
        "```\n",
        "\n",
        "Ya conociendo nuestro salto de red podemos empezar a registrar nuestros calculos para este diseño de red.\n"
      ]
    },
    {
      "cell_type": "markdown",
      "metadata": {
        "id": "Te9L-47QheAr"
      },
      "source": [
        "\n",
        "  #Subred|Hosts solicitados|Hosts calculados|Dirección de red|Máscara|Primera IP Utilizable|Última IP Utilizable|Broadcast |\n",
        ":---------------:| :-----------------:|:----------------: | :---------------:|:---------------:| :-----------------:|:----------------: | :---------------:|\n",
        "`1`|`120`|`126`|`192.168.1.0`|`/25`|`192.168.1.1`|`192.168.1.126`|`192.168.1.127` |\n",
        "`2`|`60`|`62`|`192.168.1.128`|`/26`|`192.168.1.129`|`192.168.1.190`|`192.168.1.191` |\n",
        "`3`|`24`|`30`|`192.168.1.192`|`/27`|`192.168.1.193`|`192.168.1.222`|`192.168.1.223` |\n",
        "`4`|`10`|`14`|`192.168.1.224`|`/28`|`192.168.1.225`|`192.168.1.238`|`192.168.1.239` |\n",
        "\n",
        "\n",
        "  - ***NOTA:*** Tener cuidado con los saltos de red.\n",
        "  Ya que para el calculo de las nuevas subredes, se debe partir de la máscara original."
      ]
    },
    {
      "cell_type": "markdown",
      "metadata": {
        "id": "6UB8aSsyhvkr"
      },
      "source": [
        "####***Paso 1***\n",
        "  - ***Identidicar la máscara de red.***\n",
        "\n",
        "  Recordemos que nuestra máscara es ***/24***\n",
        "\n",
        "  ***\n",
        "\n",
        "`1 1 1 1 1 1 1 1`| `1 1 1 1 1 1 1 1`  | `1 1 1 1 1 1 1 1` | `0 0 0 0 0 0 0 0`|\n",
        ":---------------:| :-----------------:|:----------------: | :---------------:|\n",
        "`255`            |`255`               |`255`              |`0`               |"
      ]
    },
    {
      "cell_type": "markdown",
      "metadata": {
        "id": "qdcQwpWo00dP"
      },
      "source": [
        "####***Paso 2***\n",
        "  - ***Aplicar la fórmula***\n",
        "\n",
        "  $2^M-2=H$; \n",
        "  \n",
        "  Donde ***H*** es el número de hosts solicitados.\n",
        "\n",
        "Haremos uso de esta tabla para que sea un poco mas sencilo de comprender.\n",
        "***\n",
        "\n",
        "$2^7$ | $2^6$ | $2^5$ | $2^4$ | $2^3$ | $2^2$ | $2^1$ | $2^0$ |\n",
        ":------:|:-------:|:-------:|:-------:|:-------:|:-------:|:-------:|:-------:|\n",
        "128   |64     | 32    | 16    | 8     | 4     | 2     | 1     |\n",
        "\n",
        "***\n",
        "\n",
        "Lo que hacemos es ubicarnos en la tabla y encontrar _Qué potecia de '2' nos da como resultado un número mayor o igual a la cantidad de hosts solicitados_\n",
        "```python\n",
        "M = 6\n",
        "```\n",
        "\n",
        "$2^M-2>=H$ ; \n",
        "\n",
        "Para este caso obtendremos:\n",
        "$2^6-2=62$ Hosts "
      ]
    },
    {
      "cell_type": "markdown",
      "metadata": {
        "id": "PqP-2G9W1Fdc"
      },
      "source": [
        "####***Paso 3***\n",
        "  - ***Obtener la nueva máscara***\n",
        "\n",
        "  En esta caso como **M** nos indica el número de hosts que debemos dejar apagados (De derecha a izquierda) y encendemos el resto y el resultado será nuestra nueva máscara, veamos:\n",
        "\n",
        "  ***\n",
        "  - **Máscara original /24**\n",
        "\n",
        "`1 1 1 1 1 1 1 1`| `1 1 1 1 1 1 1 1`  | `1 1 1 1 1 1 1 1` | `0 0 0 0 0 0 0 0`|\n",
        ":---------------:| :-----------------:|:----------------: | :---------------:|\n",
        "`255`            |`255`               |`255`              |`0`               |\n",
        "\n",
        "***\n",
        "  - **Nueva máscara /26**\n",
        "\n",
        "`1 1 1 1 1 1 1 1`| `1 1 1 1 1 1 1 1`  | `1 1 1 1 1 1 1 1` | `1 1 0 0 0 0 0 0`|\n",
        ":---------------:| :-----------------:|:----------------: | :---------------:|\n",
        "`255`            |`255`               |`255`              |`192`               |"
      ]
    },
    {
      "cell_type": "markdown",
      "metadata": {
        "id": "0lFVyZ6s1vzq"
      },
      "source": [
        "####**Paso 4**\n",
        "  - ***Cálculo de salto de red***\n",
        "  \n",
        "  Para esto, tomamos el número generado en el último octeto de la máscara y lo restamos a **256**.\n",
        "\n",
        "```python\n",
        "256 - 192 = 64\n",
        "```\n",
        "\n",
        "Ya conociendo nuestro salto de red podemos empezar a registrar nuestros calculos para este diseño de red."
      ]
    },
    {
      "cell_type": "markdown",
      "metadata": {
        "id": "XejjtjpV3MEl"
      },
      "source": [
        "####***Paso 1***\n",
        "  - ***Identidicar la máscara de red.***\n",
        "\n",
        "  Recordemos que nuestra máscara es ***/24***\n",
        "\n",
        "  ***\n",
        "\n",
        "`1 1 1 1 1 1 1 1`| `1 1 1 1 1 1 1 1`  | `1 1 1 1 1 1 1 1` | `0 0 0 0 0 0 0 0`|\n",
        ":---------------:| :-----------------:|:----------------: | :---------------:|\n",
        "`255`            |`255`               |`255`              |`0`               |\n"
      ]
    },
    {
      "cell_type": "markdown",
      "metadata": {
        "id": "Cz_FU47H3UJM"
      },
      "source": [
        "####***Paso 2***\n",
        "  - ***Aplicar la fórmula***\n",
        "\n",
        "  $2^M-2=H$; \n",
        "  \n",
        "  Donde ***H*** es el número de hosts solicitados.\n",
        "\n",
        "Haremos uso de esta tabla para que sea un poco mas sencilo de comprender.\n",
        "***\n",
        "\n",
        "$2^7$ | $2^6$ | $2^5$ | $2^4$ | $2^3$ | $2^2$ | $2^1$ | $2^0$ |\n",
        ":------:|:-------:|:-------:|:-------:|:-------:|:-------:|:-------:|:-------:|\n",
        "128   |64     | 32    | 16    | 8     | 4     | 2     | 1     |\n",
        "\n",
        "***\n",
        "\n",
        "Lo que hacemos es ubicarnos en la tabla y encontrar _Qué potecia de '2' nos da como resultado un número mayor o igual a la cantidad de hosts solicitados_\n",
        "```python\n",
        "M = 5\n",
        "```\n",
        "\n",
        "$2^M-2>=H$ ; \n",
        "\n",
        "Para este caso obtendremos:\n",
        "$2^5-2=30$ Hosts "
      ]
    },
    {
      "cell_type": "markdown",
      "metadata": {
        "id": "-pDuqOls3kH1"
      },
      "source": [
        "####***Paso 3***\n",
        "  - ***Obtener la nueva máscara***\n",
        "\n",
        "  En esta caso como **M** nos indica el número de hosts que debemos dejar apagados (De derecha a izquierda) y encendemos el resto y el resultado será nuestra nueva máscara, veamos:\n",
        "\n",
        "  ***\n",
        "  - **Máscara original /24**\n",
        "\n",
        "`1 1 1 1 1 1 1 1`| `1 1 1 1 1 1 1 1`  | `1 1 1 1 1 1 1 1` | `0 0 0 0 0 0 0 0`|\n",
        ":---------------:| :-----------------:|:----------------: | :---------------:|\n",
        "`255`            |`255`               |`255`              |`0`               |\n",
        "\n",
        "***\n",
        "  - **Nueva máscara /27**\n",
        "\n",
        "`1 1 1 1 1 1 1 1`| `1 1 1 1 1 1 1 1`  | `1 1 1 1 1 1 1 1` | `1 1 1 0 0 0 0 0`|\n",
        ":---------------:| :-----------------:|:----------------: | :---------------:|\n",
        "`255`            |`255`               |`255`              |`224`               |"
      ]
    },
    {
      "cell_type": "markdown",
      "metadata": {
        "id": "6PgOdzT34BQl"
      },
      "source": [
        "####**Paso 4**\n",
        "  - ***Cálculo de salto de red***\n",
        "  \n",
        "  Para esto, tomamos el número generado en el último octeto de la máscara y lo restamos a **256**.\n",
        "\n",
        "```python\n",
        "256 - 224 = 32\n",
        "```\n",
        "\n",
        "Ya conociendo nuestro salto de red podemos empezar a registrar nuestros calculos para este diseño de red."
      ]
    },
    {
      "cell_type": "markdown",
      "metadata": {
        "id": "wT3wejLz5Q3I"
      },
      "source": [
        "####***Paso 1***\n",
        "  - ***Identidicar la máscara de red.***\n",
        "\n",
        "  Recordemos que nuestra máscara es ***/24***\n",
        "\n",
        "  ***\n",
        "\n",
        "`1 1 1 1 1 1 1 1`| `1 1 1 1 1 1 1 1`  | `1 1 1 1 1 1 1 1` | `0 0 0 0 0 0 0 0`|\n",
        ":---------------:| :-----------------:|:----------------: | :---------------:|\n",
        "`255`            |`255`               |`255`              |`0`               |\n"
      ]
    },
    {
      "cell_type": "markdown",
      "metadata": {
        "id": "Of5pgt3_5R_t"
      },
      "source": [
        "####***Paso 2***\n",
        "  - ***Aplicar la fórmula***\n",
        "\n",
        "  $2^M-2=H$; \n",
        "  \n",
        "  Donde ***H*** es el número de hosts solicitados.\n",
        "\n",
        "Haremos uso de esta tabla para que sea un poco mas sencilo de comprender.\n",
        "***\n",
        "\n",
        "$2^7$ | $2^6$ | $2^5$ | $2^4$ | $2^3$ | $2^2$ | $2^1$ | $2^0$ |\n",
        ":------:|:-------:|:-------:|:-------:|:-------:|:-------:|:-------:|:-------:|\n",
        "128   |64     | 32    | 16    | 8     | 4     | 2     | 1     |\n",
        "\n",
        "***\n",
        "\n",
        "Lo que hacemos es ubicarnos en la tabla y encontrar _Qué potecia de '2' nos da como resultado un número mayor o igual a la cantidad de hosts solicitados_\n",
        "```python\n",
        "M = 4\n",
        "```\n",
        "\n",
        "$2^M-2>=H$ ; \n",
        "\n",
        "Para este caso obtendremos:\n",
        "$2^4-2=14$ Hosts "
      ]
    },
    {
      "cell_type": "markdown",
      "metadata": {
        "id": "ruydK8-V5oFz"
      },
      "source": [
        "####***Paso 3***\n",
        "  - ***Obtener la nueva máscara***\n",
        "\n",
        "  En esta caso como **M** nos indica el número de hosts que debemos dejar apagados (De derecha a izquierda) y encendemos el resto y el resultado será nuestra nueva máscara, veamos:\n",
        "\n",
        "  ***\n",
        "  - **Máscara original /24**\n",
        "\n",
        "`1 1 1 1 1 1 1 1`| `1 1 1 1 1 1 1 1`  | `1 1 1 1 1 1 1 1` | `0 0 0 0 0 0 0 0`|\n",
        ":---------------:| :-----------------:|:----------------: | :---------------:|\n",
        "`255`            |`255`               |`255`              |`0`               |\n",
        "\n",
        "***\n",
        "  - **Nueva máscara /28**\n",
        "\n",
        "`1 1 1 1 1 1 1 1`| `1 1 1 1 1 1 1 1`  | `1 1 1 1 1 1 1 1` | `1 1 1 1 0 0 0 0`|\n",
        ":---------------:| :-----------------:|:----------------: | :---------------:|\n",
        "`255`            |`255`               |`255`              |`240`               |"
      ]
    },
    {
      "cell_type": "markdown",
      "metadata": {
        "id": "oaSFfRCn6ELJ"
      },
      "source": [
        "####**Paso 4**\n",
        "  - ***Cálculo de salto de red***\n",
        "  \n",
        "  Para esto, tomamos el número generado en el último octeto de la máscara y lo restamos a **256**.\n",
        "\n",
        "```python\n",
        "256 - 240 = 16\n",
        "```\n",
        "\n",
        "Ya conociendo nuestro salto de red podemos empezar a registrar nuestros calculos para este diseño de red."
      ]
    },
    {
      "cell_type": "markdown",
      "metadata": {
        "id": "OtyXEKRlAvHQ"
      },
      "source": [
        "#**Calculadora VLSM**\n",
        "   [Calculadora VLSM](https://arcadio.gq/calculadora-subredes-vlsm.html)\n",
        "\n",
        "  - ***NOTA:*** Realizaremos el mismo cálculo anterior y veremos lo sencillo que es usar esta herramienta, veamos.\n",
        "\n",
        "  Recordemos el ejemplo:\n",
        "  - **Recordemos el ejemplo:** 4 subredes con 120, 60, 24, 10 hosts respectivamente.\n",
        "\n",
        "![](https://drive.google.com/uc?export=view&id=1o-fBcMmh2MRvvWFCde466CbeIE-N9D6c)"
      ]
    },
    {
      "cell_type": "markdown",
      "metadata": {
        "id": "xn2WJmavTT0f"
      },
      "source": [
        "#**Direccion IP a binario usando Python**\n",
        "[Link del código](https://realpython.com/python-ipaddress-module/)\n",
        "\n",
        "![](https://drive.google.com/uc?export=view&id=1cU0R4tHDhR8EUnDMoR3KpmCPRo71Z2q9)"
      ]
    },
    {
      "cell_type": "code",
      "metadata": {
        "id": "wkOQYYbdO0z7"
      },
      "source": [
        "import re\n",
        "from ipaddress import IPv4Address\n",
        "\n",
        "class MyIPv4(IPv4Address):\n",
        "    @property\n",
        "    def binary_repr(self, sep=\".\") -> str:\n",
        "        \"\"\"Represent IPv4 as 4 blocks of 8 bits.\"\"\"\n",
        "        return sep.join(f\"{i:08b}\" for i in self.packed)\n",
        "\n",
        "    @classmethod\n",
        "    def from_binary_repr(cls, binary_repr: str):\n",
        "        \"\"\"Construct IPv4 from binary representation.\"\"\"\n",
        "        # Remove anything that's not a 0 or 1\n",
        "        i = int(re.sub(r\"[^01]\", \"\", binary_repr), 2)\n",
        "        return cls(i)"
      ],
      "execution_count": null,
      "outputs": []
    },
    {
      "cell_type": "code",
      "metadata": {
        "colab": {
          "base_uri": "https://localhost:8080/",
          "height": 35
        },
        "id": "hnvoOtQVO6Lk",
        "outputId": "0e4cc266-282f-4a77-add8-579769fa153e"
      },
      "source": [
        "MyIPv4(\"255.255.255.248\").binary_repr"
      ],
      "execution_count": null,
      "outputs": [
        {
          "output_type": "execute_result",
          "data": {
            "application/vnd.google.colaboratory.intrinsic+json": {
              "type": "string"
            },
            "text/plain": [
              "'11111111.11111111.11111111.11111000'"
            ]
          },
          "metadata": {
            "tags": []
          },
          "execution_count": 2
        }
      ]
    },
    {
      "cell_type": "code",
      "metadata": {
        "colab": {
          "base_uri": "https://localhost:8080/",
          "height": 35
        },
        "id": "Ohv_2LIBq8Fy",
        "outputId": "068cf728-1977-497f-d99f-233a08935274"
      },
      "source": [
        "MyIPv4(\"255.255.0.0\").binary_repr"
      ],
      "execution_count": null,
      "outputs": [
        {
          "output_type": "execute_result",
          "data": {
            "application/vnd.google.colaboratory.intrinsic+json": {
              "type": "string"
            },
            "text/plain": [
              "'11111111.11111111.00000000.00000000'"
            ]
          },
          "metadata": {
            "tags": []
          },
          "execution_count": 3
        }
      ]
    },
    {
      "cell_type": "markdown",
      "metadata": {
        "id": "Tw-bSkgXhLpu"
      },
      "source": [
        "| `191`      | `.` | `102`     | `.` | `80`      | `.` | `50`     |\n",
        "| ------------ | ----- | ----------- | ----- | ----------- | ----- | ---------- |\n",
        "| `10111111` | `.` | `01100110` | `.` | `01010000` | `.` | `00110010` |"
      ]
    },
    {
      "cell_type": "code",
      "metadata": {
        "id": "9YUTX-1V1VOZ"
      },
      "source": [
        ""
      ],
      "execution_count": null,
      "outputs": []
    },
    {
      "cell_type": "code",
      "metadata": {
        "colab": {
          "base_uri": "https://localhost:8080/",
          "height": 35
        },
        "id": "iDjmsrED1XPU",
        "outputId": "b786654c-b02c-43b2-c5f7-6d3b134d275c"
      },
      "source": [
        "MyIPv4(\"0.0.0.185\").binary_repr"
      ],
      "execution_count": null,
      "outputs": [
        {
          "output_type": "execute_result",
          "data": {
            "application/vnd.google.colaboratory.intrinsic+json": {
              "type": "string"
            },
            "text/plain": [
              "'00000000.00000000.00000000.10111001'"
            ]
          },
          "metadata": {
            "tags": []
          },
          "execution_count": 2
        }
      ]
    },
    {
      "cell_type": "code",
      "metadata": {
        "colab": {
          "base_uri": "https://localhost:8080/"
        },
        "id": "Kx692iaVQUtu",
        "outputId": "786e9267-002b-43a5-b894-7ab12414949d"
      },
      "source": [
        "MyIPv4.from_binary_repr(\"11111111.11111111.11111111.10011111\")"
      ],
      "execution_count": null,
      "outputs": [
        {
          "output_type": "execute_result",
          "data": {
            "text/plain": [
              "MyIPv4('255.255.255.159')"
            ]
          },
          "metadata": {
            "tags": []
          },
          "execution_count": 10
        }
      ]
    },
    {
      "cell_type": "markdown",
      "metadata": {
        "id": "fHDP8zfi3ZDS"
      },
      "source": [
        "| `170`      | `.` | `79`     | `.` | `89`      | `.` | `105`     |\n",
        "| ------------ | ----- | ----------- | ----- | ----------- | ----- | ---------- |\n",
        "| `10101010` | `.` | `01001111` | `.` | `01011001` | `.` | `01101001` |"
      ]
    },
    {
      "cell_type": "code",
      "metadata": {
        "colab": {
          "base_uri": "https://localhost:8080/"
        },
        "id": "77goCKvMyCnM",
        "outputId": "f294a15c-c423-4cf5-8517-c32e09bd268a"
      },
      "source": [
        "MyIPv4.from_binary_repr(\"00000000.00000000.00000000.10111001\")"
      ],
      "execution_count": null,
      "outputs": [
        {
          "output_type": "execute_result",
          "data": {
            "text/plain": [
              "MyIPv4('0.0.0.185')"
            ]
          },
          "metadata": {
            "tags": []
          },
          "execution_count": 3
        }
      ]
    },
    {
      "cell_type": "code",
      "metadata": {
        "id": "KbonAGCD9Gwn"
      },
      "source": [
        "import ipaddress"
      ],
      "execution_count": null,
      "outputs": []
    },
    {
      "cell_type": "code",
      "metadata": {
        "id": "RJ4A9D-xPMAG",
        "colab": {
          "base_uri": "https://localhost:8080/"
        },
        "outputId": "7f5b08f7-b9fb-43d8-f23b-42c0eb3faca8"
      },
      "source": [
        "# pool\n",
        "red = ipaddress.ip_network('191.102.80.48/28') \n",
        "\n",
        "for x in red.hosts():\n",
        "  print(x)"
      ],
      "execution_count": null,
      "outputs": [
        {
          "output_type": "stream",
          "text": [
            "191.102.80.49\n",
            "191.102.80.50\n",
            "191.102.80.51\n",
            "191.102.80.52\n",
            "191.102.80.53\n",
            "191.102.80.54\n",
            "191.102.80.55\n",
            "191.102.80.56\n",
            "191.102.80.57\n",
            "191.102.80.58\n",
            "191.102.80.59\n",
            "191.102.80.60\n",
            "191.102.80.61\n",
            "191.102.80.62\n"
          ],
          "name": "stdout"
        }
      ]
    }
  ]
}